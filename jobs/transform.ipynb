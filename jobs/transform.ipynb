{
 "cells": [
  {
   "cell_type": "code",
   "execution_count": 9,
   "metadata": {},
   "outputs": [],
   "source": [
    "def get_bigquery_client():\n",
    "    \"\"\"Função para autenticar e criar o cliente do BigQuery\"\"\"\n",
    "    from google.cloud import bigquery\n",
    "\n",
    "    client = bigquery.Client()\n",
    "    return client"
   ]
  },
  {
   "cell_type": "code",
   "execution_count": 17,
   "metadata": {},
   "outputs": [],
   "source": [
    "def get_drive_service():\n",
    "    \"\"\"Função para autenticar e criar o serviço do Google Drive\"\"\"\n",
    "    from googleapiclient.discovery import build\n",
    "\n",
    "    service = build(\"drive\", \"v3\")\n",
    "    return service"
   ]
  },
  {
   "cell_type": "code",
   "execution_count": 11,
   "metadata": {},
   "outputs": [],
   "source": [
    "def get_sheets_service():\n",
    "    \"\"\"Função para autenticar e criar o serviço do Google Sheets\"\"\"\n",
    "    from googleapiclient.discovery import build\n",
    "\n",
    "    service = build('sheets', 'v4')\n",
    "    return service"
   ]
  },
  {
   "cell_type": "code",
   "execution_count": 12,
   "metadata": {},
   "outputs": [],
   "source": [
    "def create_new_spreadsheet(service, title=\"Nova Planilha\"):\n",
    "    \"\"\"Função para criar uma nova planilha\"\"\"\n",
    "    from googleapiclient.errors import HttpError\n",
    "\n",
    "    spreadsheet_body = {\n",
    "        \"properties\": {\"title\": title}\n",
    "    }\n",
    "    try:\n",
    "        spreadsheet = service.spreadsheets().create(body=spreadsheet_body).execute()\n",
    "        print(f\"Planilha criada com sucesso: {spreadsheet['spreadsheetId']}\")\n",
    "        return spreadsheet['spreadsheetId']\n",
    "    except HttpError as err:\n",
    "        print(f\"Erro ao criar a planilha: {err}\")\n",
    "        raise"
   ]
  },
  {
   "cell_type": "code",
   "execution_count": 13,
   "metadata": {},
   "outputs": [],
   "source": [
    "def share_file_with_email(drive_service, file_id, email, role=\"writer\"):\n",
    "    \"\"\"Função para compartilhar o arquivo com um e-mail específico\"\"\"\n",
    "    from googleapiclient.errors import HttpError\n",
    "\n",
    "    permissions = {\n",
    "        \"type\": \"user\",\n",
    "        \"role\": role,  # \"writer\" para editor ou \"reader\" para visualizador\n",
    "        \"emailAddress\": email\n",
    "    }\n",
    "    try:\n",
    "        drive_service.permissions().create(\n",
    "            fileId=file_id,\n",
    "            body=permissions,\n",
    "            fields=\"id\"\n",
    "        ).execute()\n",
    "        print(f\"Arquivo compartilhado com sucesso com {email} como {role}.\")\n",
    "    except HttpError as err:\n",
    "        print(f\"Erro ao compartilhar o arquivo: {err}\")\n",
    "        raise"
   ]
  },
  {
   "cell_type": "code",
   "execution_count": 14,
   "metadata": {},
   "outputs": [],
   "source": [
    "def upload_to_sheets(service, spreadsheet_id, range_name, df):\n",
    "    \"\"\"Função para enviar os dados do DataFrame para o Google Sheets\"\"\"\n",
    "    from googleapiclient.errors import HttpError\n",
    "\n",
    "    # Converte o DataFrame para uma lista de listas (cada linha é uma lista)\n",
    "    values = [df.columns.values.tolist()] + df.values.tolist()\n",
    "    \n",
    "    body = {\n",
    "        'values': values\n",
    "    }\n",
    "    \n",
    "    try:\n",
    "        result = service.spreadsheets().values().update(\n",
    "            spreadsheetId=spreadsheet_id,\n",
    "            range=range_name,\n",
    "            valueInputOption=\"RAW\",\n",
    "            body=body\n",
    "        ).execute()\n",
    "        print(f\"{result.get('updatedCells')} células atualizadas.\")\n",
    "    except HttpError as err:\n",
    "        print(f\"Erro ao atualizar a planilha: {err}\")\n",
    "        raise"
   ]
  },
  {
   "cell_type": "code",
   "execution_count": 15,
   "metadata": {},
   "outputs": [],
   "source": [
    "def run_bigquery_query(client, query):\n",
    "    \"\"\"Função para executar uma consulta no BigQuery e retornar os resultados como um DataFrame\"\"\"\n",
    "    query_job = client.query(query)\n",
    "    results = query_job.result()\n",
    "    # Converte os resultados para um DataFrame do pandas\n",
    "    df = results.to_dataframe()\n",
    "    return df"
   ]
  },
  {
   "cell_type": "code",
   "execution_count": 18,
   "metadata": {},
   "outputs": [
    {
     "name": "stderr",
     "output_type": "stream",
     "text": [
      "/workspaces/beAnalytics_case/beanalytics_venv/lib/python3.12/site-packages/google/cloud/bigquery/table.py:1727: UserWarning: BigQuery Storage module not found, fetch data with the REST endpoint instead.\n",
      "  warnings.warn(\n"
     ]
    },
    {
     "name": "stdout",
     "output_type": "stream",
     "text": [
      "Arquivo compartilhado com sucesso com jeffersonkakashi@gmail.com como writer.\n",
      "9398 células atualizadas.\n"
     ]
    }
   ],
   "source": [
    "import os\n",
    "\n",
    "# Configuração\n",
    "\n",
    "os.environ[\"GOOGLE_APPLICATION_CREDENTIALS\"] = \"configs/credentials.json\"\n",
    "spreadsheet_id = \"1V8AsvW6Z6zQCE5Gedhbn-yQFxjeYRe3ynlyXXpZ3XPw\" #None  # Defina como None para criar um novo documento se necessário\n",
    "range_name = \"Sheet1!A1\"  # O intervalo onde os dados serão escritos (exemplo: 'Sheet1!A1')\n",
    "email_to_share = \"jeffersonkakashi@gmail.com\"\n",
    "\n",
    "# Query para buscar os dados do BigQuery\n",
    "query = \"\"\"\n",
    "SELECT *\n",
    "FROM `beAnalytics.steam_sales`\n",
    "\"\"\"\n",
    "\n",
    "# 1. Conectando-se ao BigQuery\n",
    "client = get_bigquery_client()\n",
    "\n",
    "# 2. Executando a consulta no BigQuery\n",
    "df = run_bigquery_query(client, query)\n",
    "\n",
    "# 3. Conectando-se ao Google Sheets\n",
    "drive_service = get_drive_service()\n",
    "\n",
    "# 4. Conectando-se ao Google Sheets\n",
    "sheets_service = get_sheets_service()\n",
    "\n",
    "# 5. Verificando ou criando a planilha\n",
    "if not spreadsheet_id:\n",
    "    spreadsheet_id = create_new_spreadsheet(sheets_service, title=\"Steam\")\n",
    "\n",
    "# 6. Compartilhar a planilha\n",
    "share_file_with_email(drive_service, spreadsheet_id, email_to_share, role=\"writer\")\n",
    "\n",
    "# 7. Enviando os dados para o Google Sheets\n",
    "upload_to_sheets(sheets_service, spreadsheet_id, range_name, df)"
   ]
  }
 ],
 "metadata": {
  "kernelspec": {
   "display_name": "beanalytics_venv",
   "language": "python",
   "name": "python3"
  },
  "language_info": {
   "codemirror_mode": {
    "name": "ipython",
    "version": 3
   },
   "file_extension": ".py",
   "mimetype": "text/x-python",
   "name": "python",
   "nbconvert_exporter": "python",
   "pygments_lexer": "ipython3",
   "version": "3.12.1"
  }
 },
 "nbformat": 4,
 "nbformat_minor": 2
}
